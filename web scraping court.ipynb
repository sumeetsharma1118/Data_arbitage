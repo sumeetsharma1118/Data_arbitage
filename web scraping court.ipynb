{
 "cells": [
  {
   "cell_type": "code",
   "execution_count": 7,
   "id": "7040e362",
   "metadata": {},
   "outputs": [],
   "source": [
    "from selenium import webdriver\n",
    "\n",
    "from selenium.webdriver.common.by import By\n",
    "\n",
    "import pandas as pd\n",
    "\n",
    "import warnings\n",
    "warnings.filterwarnings('ignore')"
   ]
  },
  {
   "cell_type": "code",
   "execution_count": 54,
   "id": "66018149",
   "metadata": {},
   "outputs": [],
   "source": [
    "driver = webdriver.Chrome()\n",
    "driver.get(\"https://dhcappl.nic.in/FreeText/launchbrowsejud.do#\")\n",
    "driver.maximize_window()"
   ]
  },
  {
   "cell_type": "code",
   "execution_count": 101,
   "id": "e48332ad",
   "metadata": {},
   "outputs": [
    {
     "name": "stdout",
     "output_type": "stream",
     "text": [
      "Scraping for year: 2012\n",
      "Scraping for year: 2013\n",
      "Scraping for year: 2014\n",
      "Scraping for year: 2015\n"
     ]
    }
   ],
   "source": [
    "data = []\n",
    "final_data = []\n",
    "years = ['2012','2013', '2014', '2015']\n",
    "def court_data(driver, year):\n",
    "    \n",
    "    # Locate and click the link for the specific year\n",
    "    page_year = driver.find_element(By.XPATH, f\"\"\"//a[@onclick=\"setiframe('{year}.html');\"]\"\"\")\n",
    "    page_year.click()\n",
    "    \n",
    "    # switch to the iframe which contains the data\n",
    "    iframe = driver.find_element(By.XPATH, '//iframe[@id=\"judiframeid\"]')\n",
    "    driver.switch_to.frame(iframe)\n",
    "    \n",
    "    \n",
    "    # Extract row from table\n",
    "    rows = driver.find_elements(By.XPATH,'//tbody[@id=\"data\"]/tr')\n",
    "    \n",
    "    # printing year after each iteration\n",
    "    print(\"Scraping for year:\", year) \n",
    "    \n",
    "    #Iterate through each row in rows and extract data\n",
    "    for row in rows:\n",
    "        \n",
    "        td_elements = row.find_elements(By.XPATH, './/td')\n",
    "        \n",
    "        row_data = [td.text for td in td_elements]\n",
    "        \n",
    "        # Extracting the link which is in the 4 element.\n",
    "        link = td_elements[4].find_element(By.XPATH, './/a').get_attribute('href')\n",
    "        row_data.append(link)\n",
    "        \n",
    "        data.append(row_data)\n",
    "        \n",
    "    #Switch back the original content    \n",
    "    driver.switch_to.default_content()\n",
    "    \n",
    "    return data\n",
    "\n",
    "for year in years:\n",
    "    final_data.extend(court_data(driver, year))"
   ]
  },
  {
   "cell_type": "code",
   "execution_count": 102,
   "id": "0c06b486",
   "metadata": {},
   "outputs": [],
   "source": [
    "driver.quit()"
   ]
  },
  {
   "cell_type": "code",
   "execution_count": 103,
   "id": "d477fffc",
   "metadata": {},
   "outputs": [
    {
     "data": {
      "text/html": [
       "<div>\n",
       "<style scoped>\n",
       "    .dataframe tbody tr th:only-of-type {\n",
       "        vertical-align: middle;\n",
       "    }\n",
       "\n",
       "    .dataframe tbody tr th {\n",
       "        vertical-align: top;\n",
       "    }\n",
       "\n",
       "    .dataframe thead th {\n",
       "        text-align: right;\n",
       "    }\n",
       "</style>\n",
       "<table border=\"1\" class=\"dataframe\">\n",
       "  <thead>\n",
       "    <tr style=\"text-align: right;\">\n",
       "      <th></th>\n",
       "      <th>CASE NO</th>\n",
       "      <th>CATEGORY</th>\n",
       "      <th>PARTY NAME</th>\n",
       "      <th>JUDGEMENT DATE</th>\n",
       "      <th>JUDGEMENT PDF LINK</th>\n",
       "    </tr>\n",
       "  </thead>\n",
       "  <tbody>\n",
       "    <tr>\n",
       "      <th>0</th>\n",
       "      <td>W.P.(C) 3503/1992</td>\n",
       "      <td>MISCELLANEOUS DDA CASES (NOT COVERED BY ANY AB...</td>\n",
       "      <td>RATI RAM AND ANR. VS DELHI DEVELOPMENT AUTHORI...</td>\n",
       "      <td>02-02-12</td>\n",
       "      <td>https://dhccaseinfo.nic.in/jupload/dhc/HKO/jud...</td>\n",
       "    </tr>\n",
       "    <tr>\n",
       "      <th>1</th>\n",
       "      <td>W.P.(C) 198/1995</td>\n",
       "      <td>LABOUR AND INDUSTRIAL LAW MATTERS</td>\n",
       "      <td>M/S LAKSHMI TYPE FOUNDARY &amp; ORS. VS REGIONAL P...</td>\n",
       "      <td>11-10-12</td>\n",
       "      <td>https://dhccaseinfo.nic.in/jupload/dhc/MUG/jud...</td>\n",
       "    </tr>\n",
       "    <tr>\n",
       "      <th>2</th>\n",
       "      <td>W.P.(C) 3466/1995</td>\n",
       "      <td>INDUSTRIAL DISPUTES ACT, 1947 - CASES RELATING...</td>\n",
       "      <td>ARUN KUMAR VS MANAGEMENT OF CABLE CORUM OF INDIA</td>\n",
       "      <td>24-09-12</td>\n",
       "      <td>https://dhccaseinfo.nic.in/jupload/dhc/MUG/jud...</td>\n",
       "    </tr>\n",
       "    <tr>\n",
       "      <th>3</th>\n",
       "      <td>W.P.(C) 4599/1995</td>\n",
       "      <td>PENSION MATTERS</td>\n",
       "      <td>SK GUPTA VS AIRPORT AUTHORITY OF INDIA</td>\n",
       "      <td>20-12-12</td>\n",
       "      <td>https://dhccaseinfo.nic.in/jupload/dhc/MUG/jud...</td>\n",
       "    </tr>\n",
       "    <tr>\n",
       "      <th>4</th>\n",
       "      <td>W.P.(C) 773/1995</td>\n",
       "      <td>Matters against orders of the Board of Revenue...</td>\n",
       "      <td>R.N. SAHNI &amp; ANR. VS THE FINANCIAL COMMISSIONE...</td>\n",
       "      <td>10-04-12</td>\n",
       "      <td>https://dhccaseinfo.nic.in/jupload/dhc/SUG/jud...</td>\n",
       "    </tr>\n",
       "  </tbody>\n",
       "</table>\n",
       "</div>"
      ],
      "text/plain": [
       "             CASE NO                                           CATEGORY  \\\n",
       "0  W.P.(C) 3503/1992  MISCELLANEOUS DDA CASES (NOT COVERED BY ANY AB...   \n",
       "1   W.P.(C) 198/1995                  LABOUR AND INDUSTRIAL LAW MATTERS   \n",
       "2  W.P.(C) 3466/1995  INDUSTRIAL DISPUTES ACT, 1947 - CASES RELATING...   \n",
       "3  W.P.(C) 4599/1995                                    PENSION MATTERS   \n",
       "4   W.P.(C) 773/1995  Matters against orders of the Board of Revenue...   \n",
       "\n",
       "                                          PARTY NAME JUDGEMENT DATE  \\\n",
       "0  RATI RAM AND ANR. VS DELHI DEVELOPMENT AUTHORI...       02-02-12   \n",
       "1  M/S LAKSHMI TYPE FOUNDARY & ORS. VS REGIONAL P...       11-10-12   \n",
       "2   ARUN KUMAR VS MANAGEMENT OF CABLE CORUM OF INDIA       24-09-12   \n",
       "3             SK GUPTA VS AIRPORT AUTHORITY OF INDIA       20-12-12   \n",
       "4  R.N. SAHNI & ANR. VS THE FINANCIAL COMMISSIONE...       10-04-12   \n",
       "\n",
       "                                  JUDGEMENT PDF LINK  \n",
       "0  https://dhccaseinfo.nic.in/jupload/dhc/HKO/jud...  \n",
       "1  https://dhccaseinfo.nic.in/jupload/dhc/MUG/jud...  \n",
       "2  https://dhccaseinfo.nic.in/jupload/dhc/MUG/jud...  \n",
       "3  https://dhccaseinfo.nic.in/jupload/dhc/MUG/jud...  \n",
       "4  https://dhccaseinfo.nic.in/jupload/dhc/SUG/jud...  "
      ]
     },
     "execution_count": 103,
     "metadata": {},
     "output_type": "execute_result"
    }
   ],
   "source": [
    "df_list = []\n",
    "for list_ in data:\n",
    "    new_row = {'CASE NO': list_[0], 'CATEGORY': list_[1], 'PARTY NAME': list_[2], 'JUDGEMENT DATE': list_[3], 'JUDGEMENT PDF LINK':list_[5]}\n",
    "    df_list.append(new_row)\n",
    "    \n",
    "df = pd.DataFrame(df_list)\n",
    "df.head()"
   ]
  },
  {
   "cell_type": "code",
   "execution_count": 105,
   "id": "4aeb84f4",
   "metadata": {},
   "outputs": [
    {
     "data": {
      "text/html": [
       "<div>\n",
       "<style scoped>\n",
       "    .dataframe tbody tr th:only-of-type {\n",
       "        vertical-align: middle;\n",
       "    }\n",
       "\n",
       "    .dataframe tbody tr th {\n",
       "        vertical-align: top;\n",
       "    }\n",
       "\n",
       "    .dataframe thead th {\n",
       "        text-align: right;\n",
       "    }\n",
       "</style>\n",
       "<table border=\"1\" class=\"dataframe\">\n",
       "  <thead>\n",
       "    <tr style=\"text-align: right;\">\n",
       "      <th></th>\n",
       "      <th>CASE NO</th>\n",
       "      <th>CATEGORY</th>\n",
       "      <th>PARTY NAME</th>\n",
       "      <th>JUDGEMENT DATE</th>\n",
       "      <th>JUDGEMENT PDF LINK</th>\n",
       "    </tr>\n",
       "  </thead>\n",
       "  <tbody>\n",
       "    <tr>\n",
       "      <th>19438</th>\n",
       "      <td>W.P.(C) 6803/2013</td>\n",
       "      <td>CONSTITUTIONAL VALIDITY MATTERS [CIVIL]</td>\n",
       "      <td>NATIONAL BUILDING CONSTRUCTION CIROIRATUIB KUN...</td>\n",
       "      <td>09-01-14</td>\n",
       "      <td>https://dhccaseinfo.nic.in/jupload/dhc/SID/jud...</td>\n",
       "    </tr>\n",
       "  </tbody>\n",
       "</table>\n",
       "</div>"
      ],
      "text/plain": [
       "                 CASE NO                                 CATEGORY  \\\n",
       "19438  W.P.(C) 6803/2013  CONSTITUTIONAL VALIDITY MATTERS [CIVIL]   \n",
       "\n",
       "                                              PARTY NAME JUDGEMENT DATE  \\\n",
       "19438  NATIONAL BUILDING CONSTRUCTION CIROIRATUIB KUN...       09-01-14   \n",
       "\n",
       "                                      JUDGEMENT PDF LINK  \n",
       "19438  https://dhccaseinfo.nic.in/jupload/dhc/SID/jud...  "
      ]
     },
     "execution_count": 105,
     "metadata": {},
     "output_type": "execute_result"
    }
   ],
   "source": [
    "df.sample()"
   ]
  },
  {
   "cell_type": "code",
   "execution_count": 106,
   "id": "8f30d3dd",
   "metadata": {},
   "outputs": [],
   "source": [
    "data = df.to_csv(\"C:/Users/ADMIN/Desktop/New folder/Project/Court scrape/Court_data1.csv\")"
   ]
  },
  {
   "cell_type": "code",
   "execution_count": 113,
   "id": "9f9a83c4",
   "metadata": {},
   "outputs": [
    {
     "data": {
      "text/html": [
       "<div>\n",
       "<style scoped>\n",
       "    .dataframe tbody tr th:only-of-type {\n",
       "        vertical-align: middle;\n",
       "    }\n",
       "\n",
       "    .dataframe tbody tr th {\n",
       "        vertical-align: top;\n",
       "    }\n",
       "\n",
       "    .dataframe thead th {\n",
       "        text-align: right;\n",
       "    }\n",
       "</style>\n",
       "<table border=\"1\" class=\"dataframe\">\n",
       "  <thead>\n",
       "    <tr style=\"text-align: right;\">\n",
       "      <th></th>\n",
       "      <th>Unnamed: 0</th>\n",
       "      <th>CASE NO</th>\n",
       "      <th>CATEGORY</th>\n",
       "      <th>PARTY NAME</th>\n",
       "      <th>JUDGEMENT DATE</th>\n",
       "      <th>JUDGEMENT PDF LINK</th>\n",
       "    </tr>\n",
       "  </thead>\n",
       "  <tbody>\n",
       "    <tr>\n",
       "      <th>30390</th>\n",
       "      <td>30390</td>\n",
       "      <td>EFA(OS) 27/2015</td>\n",
       "      <td>OTHER MATTERS RELATING TO SPECIFIC PERFORMANCE</td>\n",
       "      <td>CENTRAL DAIRY FARM &amp; ANR VS M/S PACKRAFT INDIA...</td>\n",
       "      <td>29-10-15</td>\n",
       "      <td>https://dhccaseinfo.nic.in/jupload/dhc/ISM/jud...</td>\n",
       "    </tr>\n",
       "  </tbody>\n",
       "</table>\n",
       "</div>"
      ],
      "text/plain": [
       "       Unnamed: 0          CASE NO  \\\n",
       "30390       30390  EFA(OS) 27/2015   \n",
       "\n",
       "                                             CATEGORY  \\\n",
       "30390  OTHER MATTERS RELATING TO SPECIFIC PERFORMANCE   \n",
       "\n",
       "                                              PARTY NAME JUDGEMENT DATE  \\\n",
       "30390  CENTRAL DAIRY FARM & ANR VS M/S PACKRAFT INDIA...       29-10-15   \n",
       "\n",
       "                                      JUDGEMENT PDF LINK  \n",
       "30390  https://dhccaseinfo.nic.in/jupload/dhc/ISM/jud...  "
      ]
     },
     "execution_count": 113,
     "metadata": {},
     "output_type": "execute_result"
    }
   ],
   "source": [
    "df1 = pd.read_csv(\"C:/Users/ADMIN/Desktop/New folder/Project/Court scrape/Court_data1.csv\")\n",
    "df1.sample()"
   ]
  },
  {
   "cell_type": "code",
   "execution_count": 114,
   "id": "13835551",
   "metadata": {},
   "outputs": [],
   "source": [
    "df = df1.copy()"
   ]
  },
  {
   "cell_type": "code",
   "execution_count": 119,
   "id": "017083e2",
   "metadata": {},
   "outputs": [],
   "source": [
    "df.rename(columns={'Unnamed: 0': 'S.NO'}, inplace=True)"
   ]
  },
  {
   "cell_type": "code",
   "execution_count": 120,
   "id": "c29f5434",
   "metadata": {},
   "outputs": [
    {
     "data": {
      "text/html": [
       "<div>\n",
       "<style scoped>\n",
       "    .dataframe tbody tr th:only-of-type {\n",
       "        vertical-align: middle;\n",
       "    }\n",
       "\n",
       "    .dataframe tbody tr th {\n",
       "        vertical-align: top;\n",
       "    }\n",
       "\n",
       "    .dataframe thead th {\n",
       "        text-align: right;\n",
       "    }\n",
       "</style>\n",
       "<table border=\"1\" class=\"dataframe\">\n",
       "  <thead>\n",
       "    <tr style=\"text-align: right;\">\n",
       "      <th></th>\n",
       "      <th>S.NO</th>\n",
       "      <th>CASE NO</th>\n",
       "      <th>CATEGORY</th>\n",
       "      <th>PARTY NAME</th>\n",
       "      <th>JUDGEMENT DATE</th>\n",
       "      <th>JUDGEMENT PDF LINK</th>\n",
       "    </tr>\n",
       "  </thead>\n",
       "  <tbody>\n",
       "    <tr>\n",
       "      <th>31856</th>\n",
       "      <td>31856</td>\n",
       "      <td>CRL.M.C. 4606/2015</td>\n",
       "      <td>CRL.M.C. RELATING TO QUASHING OF F.I.R./CHARGE...</td>\n",
       "      <td>MANISH KUMAR KWATRA &amp; ORS. VS THE STATE (GOVT....</td>\n",
       "      <td>02-12-15</td>\n",
       "      <td>https://dhccaseinfo.nic.in/jupload/dhc/SKT/jud...</td>\n",
       "    </tr>\n",
       "  </tbody>\n",
       "</table>\n",
       "</div>"
      ],
      "text/plain": [
       "        S.NO             CASE NO  \\\n",
       "31856  31856  CRL.M.C. 4606/2015   \n",
       "\n",
       "                                                CATEGORY  \\\n",
       "31856  CRL.M.C. RELATING TO QUASHING OF F.I.R./CHARGE...   \n",
       "\n",
       "                                              PARTY NAME JUDGEMENT DATE  \\\n",
       "31856  MANISH KUMAR KWATRA & ORS. VS THE STATE (GOVT....       02-12-15   \n",
       "\n",
       "                                      JUDGEMENT PDF LINK  \n",
       "31856  https://dhccaseinfo.nic.in/jupload/dhc/SKT/jud...  "
      ]
     },
     "execution_count": 120,
     "metadata": {},
     "output_type": "execute_result"
    }
   ],
   "source": [
    "df.sample()"
   ]
  },
  {
   "cell_type": "code",
   "execution_count": 121,
   "id": "f59b73ba",
   "metadata": {},
   "outputs": [],
   "source": [
    "#Spliting the Party name column into party name and respondent's \n",
    "df['PARTY NAME'], df['RESPONDENT\"S'] = df['PARTY NAME'].str.split(\" VS \", 1).str "
   ]
  },
  {
   "cell_type": "code",
   "execution_count": 145,
   "id": "fcc5181b",
   "metadata": {},
   "outputs": [],
   "source": [
    "# Reording the columns name\n",
    "df = df[['S.NO', 'CASE NO', 'CATEGORY', 'PARTY NAME','RESPONDENT\"S','JUDGEMENT DATE', 'JUDGEMENT PDF LINK']]"
   ]
  },
  {
   "cell_type": "code",
   "execution_count": 146,
   "id": "c9601751",
   "metadata": {},
   "outputs": [
    {
     "data": {
      "text/html": [
       "<div>\n",
       "<style scoped>\n",
       "    .dataframe tbody tr th:only-of-type {\n",
       "        vertical-align: middle;\n",
       "    }\n",
       "\n",
       "    .dataframe tbody tr th {\n",
       "        vertical-align: top;\n",
       "    }\n",
       "\n",
       "    .dataframe thead th {\n",
       "        text-align: right;\n",
       "    }\n",
       "</style>\n",
       "<table border=\"1\" class=\"dataframe\">\n",
       "  <thead>\n",
       "    <tr style=\"text-align: right;\">\n",
       "      <th></th>\n",
       "      <th>S.NO</th>\n",
       "      <th>CASE NO</th>\n",
       "      <th>CATEGORY</th>\n",
       "      <th>PARTY NAME</th>\n",
       "      <th>RESPONDENT\"S</th>\n",
       "      <th>JUDGEMENT DATE</th>\n",
       "      <th>JUDGEMENT PDF LINK</th>\n",
       "    </tr>\n",
       "  </thead>\n",
       "  <tbody>\n",
       "    <tr>\n",
       "      <th>10662</th>\n",
       "      <td>10662</td>\n",
       "      <td>CRL.L.P. 504/2011</td>\n",
       "      <td>Against acquittal</td>\n",
       "      <td>VIRENDER SINGH</td>\n",
       "      <td>DEEPAK BHATIA</td>\n",
       "      <td>08-04-13</td>\n",
       "      <td>https://dhccaseinfo.nic.in/jupload/dhc/GPM/jud...</td>\n",
       "    </tr>\n",
       "  </tbody>\n",
       "</table>\n",
       "</div>"
      ],
      "text/plain": [
       "        S.NO            CASE NO           CATEGORY      PARTY NAME  \\\n",
       "10662  10662  CRL.L.P. 504/2011  Against acquittal  VIRENDER SINGH   \n",
       "\n",
       "        RESPONDENT\"S JUDGEMENT DATE  \\\n",
       "10662  DEEPAK BHATIA       08-04-13   \n",
       "\n",
       "                                      JUDGEMENT PDF LINK  \n",
       "10662  https://dhccaseinfo.nic.in/jupload/dhc/GPM/jud...  "
      ]
     },
     "execution_count": 146,
     "metadata": {},
     "output_type": "execute_result"
    }
   ],
   "source": [
    "df.sample()"
   ]
  },
  {
   "cell_type": "code",
   "execution_count": 147,
   "id": "a6486e76",
   "metadata": {},
   "outputs": [],
   "source": [
    "df.to_csv(\"C:/Users/ADMIN/Desktop/New folder/Project/Court scrape/Court_data_final.csv\", encoding='utf-8', index=False)"
   ]
  },
  {
   "cell_type": "code",
   "execution_count": null,
   "id": "1e8f639d",
   "metadata": {},
   "outputs": [],
   "source": []
  }
 ],
 "metadata": {
  "kernelspec": {
   "display_name": "Python 3 (ipykernel)",
   "language": "python",
   "name": "python3"
  },
  "language_info": {
   "codemirror_mode": {
    "name": "ipython",
    "version": 3
   },
   "file_extension": ".py",
   "mimetype": "text/x-python",
   "name": "python",
   "nbconvert_exporter": "python",
   "pygments_lexer": "ipython3",
   "version": "3.11.3"
  }
 },
 "nbformat": 4,
 "nbformat_minor": 5
}
