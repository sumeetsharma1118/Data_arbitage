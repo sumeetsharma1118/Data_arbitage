{
 "cells": [
  {
   "cell_type": "code",
   "execution_count": 36,
   "metadata": {},
   "outputs": [],
   "source": [
    "# Importing a driver from selenium that will help us in scrapping the website\n",
    "from selenium import webdriver\n",
    "\n",
    "# Importing service to specify the driver executable path\n",
    "from selenium.webdriver.chrome.service import Service\n",
    "\n",
    "# Importing library to locate web element on webpage\n",
    "from selenium.webdriver.common.by import By\n",
    "\n",
    "# Importing library to parse the html content\n",
    "from bs4 import BeautifulSoup\n",
    "\n",
    "# Importing basic libraries\n",
    "import numpy as np\n",
    "import pandas as pd\n",
    "\n",
    "import matplotlib.pyplot as plt\n",
    "import seaborn as sns"
   ]
  },
  {
   "cell_type": "code",
   "execution_count": 37,
   "metadata": {},
   "outputs": [],
   "source": [
    "web_to_scrap = \"https://njdg.ecourts.gov.in/scnjdg/\"\n",
    "path_to_web_driver = r\"G:\\STUDY MATERIAL\\THEORY\\Web scrapping\\Scrapping Upwork\\chromedriver.exe\""
   ]
  },
  {
   "cell_type": "code",
   "execution_count": 38,
   "metadata": {},
   "outputs": [],
   "source": [
    "# Create a service to specify the driver executable path\n",
    "service = Service(path_to_web_driver)\n",
    "\n",
    "# Create ChromeOptions and specify option\n",
    "chrome_options = webdriver.ChromeOptions()\n",
    "\n",
    "# Initialize the Chrome WebDriver with service and options\n",
    "driver = webdriver.Chrome(service=service, options=chrome_options)\n",
    "\n",
    "# Open the webpage\n",
    "driver.get(web_to_scrap)\n",
    "\n",
    "pending = driver.find_element(By.XPATH,\"//ul[@role='tablist']/li[2]\").click()\n",
    "\n"
   ]
  },
  {
   "cell_type": "code",
   "execution_count": 39,
   "metadata": {},
   "outputs": [],
   "source": [
    "registered = driver.find_element(By.XPATH,\"//table[@id='pend_regchart']//td[1]\").click()"
   ]
  },
  {
   "cell_type": "code",
   "execution_count": 40,
   "metadata": {},
   "outputs": [],
   "source": [
    "criminal = driver.find_element(By.XPATH,\"//table[@id='OAAE1chart']//td[2]\").click()"
   ]
  },
  {
   "cell_type": "code",
   "execution_count": 41,
   "metadata": {},
   "outputs": [],
   "source": [
    "inst_vs_Disp = driver.find_element(By.XPATH, \"//div[@id='dv_inst_disp_select']//button[@id='insDispTblbtn']\")\n",
    "driver.execute_script(\"arguments[0].click();\", inst_vs_Disp)"
   ]
  },
  {
   "cell_type": "code",
   "execution_count": 43,
   "metadata": {},
   "outputs": [],
   "source": [
    "int_disp_table = driver.find_element(By.XPATH,\"//table[@id='tblInstDispCount']//tbody//tr[6]//td[2]//a\").click()\n"
   ]
  },
  {
   "cell_type": "code",
   "execution_count": 44,
   "metadata": {},
   "outputs": [],
   "source": [
    "rows_count = driver.find_element(By.XPATH,\"//div[@id='tbl_cases_dash_wrapper']//select[@name='tbl_cases_dash_length']//option[@value='1000']\").click()\n"
   ]
  },
  {
   "cell_type": "code",
   "execution_count": 45,
   "metadata": {},
   "outputs": [],
   "source": [
    "S_No = []\n",
    "Diary_Number = []\n",
    "Case_Number = []\n",
    "Party_Name = []\n"
   ]
  },
  {
   "cell_type": "code",
   "execution_count": 19,
   "metadata": {},
   "outputs": [],
   "source": [
    "table_info = driver.find_element(By.XPATH,\"//div[@id='tbl_cases_dash_info']\").text.replace(\",\",\"\")\n",
    "total_entries = [i for i in list(table_info.split(\" \")) if i.isnumeric()]\n",
    "total_entries = max(map(int,total_entries))\n",
    "\n",
    "number_of_pages = (total_entries//1000)+1 if total_entries%1000!=0 else (total_entries//1000)\n",
    "\n",
    "for j in range(number_of_pages):\n",
    "    table = driver.find_element(By.XPATH,\"//tbody[@id='caselist_body']\")\n",
    "    rows = table.find_elements(By.TAG_NAME,\"tr\")\n",
    "    for match in rows:\n",
    "        S_No.append(match.find_element(By.XPATH,\"./td[1]\").text) # \".\" to specify current element\n",
    "        Diary_Number.append(match.find_element(By.XPATH,\"./td[2]\").text )\n",
    "        Case_Number.append(match.find_element(By.XPATH,\"./td[3]\").text ) \n",
    "        Party_Name.append(match.find_element(By.XPATH,\"./td[4]\").text )\n",
    "\n",
    "    if j<number_of_pages-1:   \n",
    "        next_button = driver.find_element(By.XPATH,\"//div[@id='tbl_cases_dash_paginate']//a[3]\").click()\n",
    "    "
   ]
  },
  {
   "cell_type": "code",
   "execution_count": 28,
   "metadata": {},
   "outputs": [
    {
     "data": {
      "text/html": [
       "<div>\n",
       "<style scoped>\n",
       "    .dataframe tbody tr th:only-of-type {\n",
       "        vertical-align: middle;\n",
       "    }\n",
       "\n",
       "    .dataframe tbody tr th {\n",
       "        vertical-align: top;\n",
       "    }\n",
       "\n",
       "    .dataframe thead th {\n",
       "        text-align: right;\n",
       "    }\n",
       "</style>\n",
       "<table border=\"1\" class=\"dataframe\">\n",
       "  <thead>\n",
       "    <tr style=\"text-align: right;\">\n",
       "      <th></th>\n",
       "      <th>Sr.No.</th>\n",
       "      <th>Diary Number</th>\n",
       "      <th>Case Number</th>\n",
       "      <th>Party Name</th>\n",
       "    </tr>\n",
       "  </thead>\n",
       "  <tbody>\n",
       "    <tr>\n",
       "      <th>0</th>\n",
       "      <td>1</td>\n",
       "      <td>5246/2023</td>\n",
       "      <td>SPECIAL LEAVE PETITION (CRIMINAL)/2876/2023</td>\n",
       "      <td>BANARSI CHAUDHARY Vs THE STATE OF BIHAR</td>\n",
       "    </tr>\n",
       "    <tr>\n",
       "      <th>1</th>\n",
       "      <td>2</td>\n",
       "      <td>7162/2023</td>\n",
       "      <td>SPECIAL LEAVE PETITION (CRIMINAL)/3173/2023</td>\n",
       "      <td>P. DINESH KUMAR Vs T. CIBI CHAKARAVARTHY</td>\n",
       "    </tr>\n",
       "    <tr>\n",
       "      <th>2</th>\n",
       "      <td>3</td>\n",
       "      <td>7196/2023</td>\n",
       "      <td>SPECIAL LEAVE PETITION (CRIMINAL)/4205/2023</td>\n",
       "      <td>ABC Vs THE STATE OF UTTARAKHAND</td>\n",
       "    </tr>\n",
       "    <tr>\n",
       "      <th>3</th>\n",
       "      <td>4</td>\n",
       "      <td>10217/2023</td>\n",
       "      <td>SPECIAL LEAVE PETITION (CRIMINAL)/6947/2023</td>\n",
       "      <td>V. GANESH KUMAR Vs STATE OF TAMIL NADU</td>\n",
       "    </tr>\n",
       "    <tr>\n",
       "      <th>4</th>\n",
       "      <td>5</td>\n",
       "      <td>923/2023</td>\n",
       "      <td>SPECIAL LEAVE PETITION (CRIMINAL)/1752/2023</td>\n",
       "      <td>SHANKAR SINGH YADAV Vs DIRECTORATE OF REVENUE ...</td>\n",
       "    </tr>\n",
       "    <tr>\n",
       "      <th>...</th>\n",
       "      <td>...</td>\n",
       "      <td>...</td>\n",
       "      <td>...</td>\n",
       "      <td>...</td>\n",
       "    </tr>\n",
       "    <tr>\n",
       "      <th>13050</th>\n",
       "      <td>13051</td>\n",
       "      <td>47239/2023</td>\n",
       "      <td>SPECIAL LEAVE PETITION (CRIMINAL)/14884/2023</td>\n",
       "      <td>THE STATE OF KERALA Vs KULWANTH SINGH KALSI</td>\n",
       "    </tr>\n",
       "    <tr>\n",
       "      <th>13051</th>\n",
       "      <td>13052</td>\n",
       "      <td>46945/2023</td>\n",
       "      <td>SPECIAL LEAVE PETITION (CRIMINAL)/14947/2023</td>\n",
       "      <td>SHIVDATTA Vs THE STATE OF MAHARASHTRA</td>\n",
       "    </tr>\n",
       "    <tr>\n",
       "      <th>13052</th>\n",
       "      <td>13053</td>\n",
       "      <td>43591/2023</td>\n",
       "      <td>WRIT PETITION(CRIMINAL)/562/2023</td>\n",
       "      <td>PRATEEK BHURARIA Vs UNION OF INDIA</td>\n",
       "    </tr>\n",
       "    <tr>\n",
       "      <th>13053</th>\n",
       "      <td>13054</td>\n",
       "      <td>43861/2023</td>\n",
       "      <td>WRIT PETITION(CRIMINAL)/548/2023</td>\n",
       "      <td>AJAY VERMA Vs UNION OF INDIA</td>\n",
       "    </tr>\n",
       "    <tr>\n",
       "      <th>13054</th>\n",
       "      <td>13055</td>\n",
       "      <td>42509/2023</td>\n",
       "      <td>SPECIAL LEAVE PETITION (CRIMINAL)/14538/2023</td>\n",
       "      <td>FAKHRUN NISHA Vs MD. ANWAR @ BHUTKA</td>\n",
       "    </tr>\n",
       "  </tbody>\n",
       "</table>\n",
       "<p>13055 rows × 4 columns</p>\n",
       "</div>"
      ],
      "text/plain": [
       "      Sr.No. Diary Number                                   Case Number  \\\n",
       "0          1    5246/2023   SPECIAL LEAVE PETITION (CRIMINAL)/2876/2023   \n",
       "1          2    7162/2023   SPECIAL LEAVE PETITION (CRIMINAL)/3173/2023   \n",
       "2          3    7196/2023   SPECIAL LEAVE PETITION (CRIMINAL)/4205/2023   \n",
       "3          4   10217/2023   SPECIAL LEAVE PETITION (CRIMINAL)/6947/2023   \n",
       "4          5     923/2023   SPECIAL LEAVE PETITION (CRIMINAL)/1752/2023   \n",
       "...      ...          ...                                           ...   \n",
       "13050  13051   47239/2023  SPECIAL LEAVE PETITION (CRIMINAL)/14884/2023   \n",
       "13051  13052   46945/2023  SPECIAL LEAVE PETITION (CRIMINAL)/14947/2023   \n",
       "13052  13053   43591/2023              WRIT PETITION(CRIMINAL)/562/2023   \n",
       "13053  13054   43861/2023              WRIT PETITION(CRIMINAL)/548/2023   \n",
       "13054  13055   42509/2023  SPECIAL LEAVE PETITION (CRIMINAL)/14538/2023   \n",
       "\n",
       "                                              Party Name  \n",
       "0                BANARSI CHAUDHARY Vs THE STATE OF BIHAR  \n",
       "1               P. DINESH KUMAR Vs T. CIBI CHAKARAVARTHY  \n",
       "2                        ABC Vs THE STATE OF UTTARAKHAND  \n",
       "3                 V. GANESH KUMAR Vs STATE OF TAMIL NADU  \n",
       "4      SHANKAR SINGH YADAV Vs DIRECTORATE OF REVENUE ...  \n",
       "...                                                  ...  \n",
       "13050        THE STATE OF KERALA Vs KULWANTH SINGH KALSI  \n",
       "13051              SHIVDATTA Vs THE STATE OF MAHARASHTRA  \n",
       "13052                 PRATEEK BHURARIA Vs UNION OF INDIA  \n",
       "13053                       AJAY VERMA Vs UNION OF INDIA  \n",
       "13054                FAKHRUN NISHA Vs MD. ANWAR @ BHUTKA  \n",
       "\n",
       "[13055 rows x 4 columns]"
      ]
     },
     "execution_count": 28,
     "metadata": {},
     "output_type": "execute_result"
    }
   ],
   "source": [
    "df = pd.DataFrame({\"Sr.No.\": S_No,\n",
    "                   \"Diary Number\" : Diary_Number,\n",
    "                   \"Case Number\" : Case_Number,\n",
    "                   \"Party Name\" : Party_Name})\n",
    "df"
   ]
  },
  {
   "cell_type": "code",
   "execution_count": null,
   "metadata": {},
   "outputs": [],
   "source": [
    "unregistered = driver.find_element(By.XPATH,\"//table[@id='pend_regchart']//td[2]\").click()"
   ]
  },
  {
   "cell_type": "code",
   "execution_count": null,
   "metadata": {},
   "outputs": [],
   "source": []
  },
  {
   "cell_type": "code",
   "execution_count": null,
   "metadata": {},
   "outputs": [],
   "source": []
  },
  {
   "cell_type": "code",
   "execution_count": 35,
   "metadata": {},
   "outputs": [],
   "source": [
    "driver.quit()"
   ]
  },
  {
   "cell_type": "code",
   "execution_count": 29,
   "metadata": {},
   "outputs": [],
   "source": [
    "df.to_excel(\"Supreme_court_cases.xlsx\",index=False)"
   ]
  }
 ],
 "metadata": {
  "kernelspec": {
   "display_name": "base",
   "language": "python",
   "name": "python3"
  },
  "language_info": {
   "codemirror_mode": {
    "name": "ipython",
    "version": 3
   },
   "file_extension": ".py",
   "mimetype": "text/x-python",
   "name": "python",
   "nbconvert_exporter": "python",
   "pygments_lexer": "ipython3",
   "version": "3.9.13"
  }
 },
 "nbformat": 4,
 "nbformat_minor": 2
}
