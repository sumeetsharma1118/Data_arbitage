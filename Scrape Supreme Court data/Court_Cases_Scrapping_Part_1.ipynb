{
 "cells": [
  {
   "cell_type": "code",
   "execution_count": 1,
   "metadata": {},
   "outputs": [],
   "source": [
    "# Importing required liabraries\n",
    "\n",
    "import time\n",
    "import pandas as pd\n",
    "from selenium import webdriver\n",
    "from selenium.webdriver.common.by import By\n",
    "from selenium.webdriver.support.ui import WebDriverWait\n",
    "from selenium.webdriver.support import expected_conditions as EC\n",
    "\n",
    "import warnings\n",
    "warnings.filterwarnings('ignore')"
   ]
  },
  {
   "cell_type": "code",
   "execution_count": 2,
   "metadata": {},
   "outputs": [],
   "source": [
    "# Set up the WebDriver\n",
    "driver = webdriver.Chrome()\n",
    "driver.get('https://njdg.ecourts.gov.in/scnjdg/')"
   ]
  },
  {
   "cell_type": "code",
   "execution_count": 3,
   "metadata": {},
   "outputs": [],
   "source": [
    "# Find and click the link to open the popup window\n",
    "link = driver.find_element(By.XPATH, '//a[contains(@onclick, \"fetchCasesRecords\")]')\n",
    "link.click()"
   ]
  },
  {
   "cell_type": "code",
   "execution_count": 4,
   "metadata": {},
   "outputs": [],
   "source": [
    "# Wait for the popup window to appear\n",
    "wait = WebDriverWait(driver, 10)\n",
    "popup = wait.until(EC.presence_of_element_located((By.ID, 'modal_case_data')))\n"
   ]
  },
  {
   "cell_type": "code",
   "execution_count": 5,
   "metadata": {},
   "outputs": [],
   "source": [
    "# Checking dropdown element\n",
    "dropdown = driver.find_element(By.NAME, 'tbl_cases_length')\n",
    "# Click the dropdown to open options\n",
    "dropdown.click()"
   ]
  },
  {
   "cell_type": "code",
   "execution_count": 6,
   "metadata": {},
   "outputs": [],
   "source": [
    "# Waiting for the dropdown options to be visible\n",
    "wait.until(EC.visibility_of_all_elements_located((By.XPATH, '//select[@name=\"tbl_cases_length\"]/option')))\n",
    "\n",
    "# Finding and clicking the option with value \"1000\"\n",
    "option_1000 = driver.find_element(By.XPATH, '//select[@name=\"tbl_cases_length\"]/option[@value=\"1000\"]')\n",
    "option_1000.click()"
   ]
  },
  {
   "cell_type": "code",
   "execution_count": 7,
   "metadata": {},
   "outputs": [
    {
     "data": {
      "text/plain": [
       "<selenium.webdriver.remote.webelement.WebElement (session=\"b1bc9b16a162321586d5d4276954f986\", element=\"91FADA9B4530089204A454E91E14A3F2_element_33\")>"
      ]
     },
     "execution_count": 7,
     "metadata": {},
     "output_type": "execute_result"
    }
   ],
   "source": [
    "# Checking for table data \n",
    "table = driver.find_element(By.ID, 'tbl_cases_report_body')\n",
    "table"
   ]
  },
  {
   "cell_type": "code",
   "execution_count": 8,
   "metadata": {},
   "outputs": [],
   "source": [
    "# Extracting rows\n",
    "rows = table.find_elements(By.TAG_NAME, 'tr')"
   ]
  },
  {
   "cell_type": "code",
   "execution_count": 9,
   "metadata": {},
   "outputs": [
    {
     "data": {
      "text/html": [
       "<div>\n",
       "<style scoped>\n",
       "    .dataframe tbody tr th:only-of-type {\n",
       "        vertical-align: middle;\n",
       "    }\n",
       "\n",
       "    .dataframe tbody tr th {\n",
       "        vertical-align: top;\n",
       "    }\n",
       "\n",
       "    .dataframe thead th {\n",
       "        text-align: right;\n",
       "    }\n",
       "</style>\n",
       "<table border=\"1\" class=\"dataframe\">\n",
       "  <thead>\n",
       "    <tr style=\"text-align: right;\">\n",
       "      <th></th>\n",
       "      <th>Diary Number</th>\n",
       "      <th>Case Number</th>\n",
       "      <th>Date of Filing</th>\n",
       "      <th>Party Name</th>\n",
       "    </tr>\n",
       "  </thead>\n",
       "  <tbody>\n",
       "    <tr>\n",
       "      <th>0</th>\n",
       "      <td>41091/2023</td>\n",
       "      <td>Unregistered</td>\n",
       "      <td>04-10-2023</td>\n",
       "      <td>UPENDRA NATH DALAI Vs ALL INDIA PRESIDENT BHAR...</td>\n",
       "    </tr>\n",
       "    <tr>\n",
       "      <th>1</th>\n",
       "      <td>40882/2023</td>\n",
       "      <td>Unregistered</td>\n",
       "      <td>03-10-2023</td>\n",
       "      <td>ROHAN CHATTERJEE Vs THE STATE OF WEST BENGAL</td>\n",
       "    </tr>\n",
       "    <tr>\n",
       "      <th>2</th>\n",
       "      <td>41501/2023</td>\n",
       "      <td>Unregistered</td>\n",
       "      <td>06-10-2023</td>\n",
       "      <td>SOMAKKA DECEASED BY LRS Vs ANAND @ ADIVEPPA</td>\n",
       "    </tr>\n",
       "    <tr>\n",
       "      <th>3</th>\n",
       "      <td>41949/2023</td>\n",
       "      <td>Unregistered</td>\n",
       "      <td>09-10-2023</td>\n",
       "      <td>RAKESH KAUSHIK Vs THE STATE OF HARYANA</td>\n",
       "    </tr>\n",
       "    <tr>\n",
       "      <th>4</th>\n",
       "      <td>40644/2023</td>\n",
       "      <td>SPECIAL LEAVE PETITION (CIVIL) / 22561 / 2023</td>\n",
       "      <td>02-10-2023</td>\n",
       "      <td>SUDEEPTA BISWAJIT GANGULY Vs BISWAJIT BIJANKUM...</td>\n",
       "    </tr>\n",
       "    <tr>\n",
       "      <th>...</th>\n",
       "      <td>...</td>\n",
       "      <td>...</td>\n",
       "      <td>...</td>\n",
       "      <td>...</td>\n",
       "    </tr>\n",
       "    <tr>\n",
       "      <th>3183</th>\n",
       "      <td>44362/2023</td>\n",
       "      <td>Unregistered</td>\n",
       "      <td>21-10-2023</td>\n",
       "      <td>PUNAM LALWANI Vs PRATIBHA SONI</td>\n",
       "    </tr>\n",
       "    <tr>\n",
       "      <th>3184</th>\n",
       "      <td>43514/2023</td>\n",
       "      <td>Unregistered</td>\n",
       "      <td>18-10-2023</td>\n",
       "      <td>COMMISSIONER OF SALES TAX Vs M/S. BIRLA TYRES</td>\n",
       "    </tr>\n",
       "    <tr>\n",
       "      <th>3185</th>\n",
       "      <td>41271/2023</td>\n",
       "      <td>WRIT PETITION (CIVIL) / 1147 / 2023</td>\n",
       "      <td>05-10-2023</td>\n",
       "      <td>E. R. GOPAKUMAR Vs THE STATE OF TAMIL NADU</td>\n",
       "    </tr>\n",
       "    <tr>\n",
       "      <th>3186</th>\n",
       "      <td>41772/2023</td>\n",
       "      <td>SPECIAL LEAVE PETITION (CIVIL) / 24804 / 2023</td>\n",
       "      <td>09-10-2023</td>\n",
       "      <td>MANAGING DIRECTOR U.P. JAL NIGAM (URBAN) LUCK ...</td>\n",
       "    </tr>\n",
       "    <tr>\n",
       "      <th>3187</th>\n",
       "      <td>43393/2023</td>\n",
       "      <td>SPECIAL LEAVE PETITION (CIVIL) / 24070 / 2023</td>\n",
       "      <td>17-10-2023</td>\n",
       "      <td>HDFC BANK LIMITED Vs ASHOK HARRY POTHEN</td>\n",
       "    </tr>\n",
       "  </tbody>\n",
       "</table>\n",
       "<p>3188 rows × 4 columns</p>\n",
       "</div>"
      ],
      "text/plain": [
       "     Diary Number                                    Case Number  \\\n",
       "0      41091/2023                                   Unregistered   \n",
       "1      40882/2023                                   Unregistered   \n",
       "2      41501/2023                                   Unregistered   \n",
       "3      41949/2023                                   Unregistered   \n",
       "4      40644/2023  SPECIAL LEAVE PETITION (CIVIL) / 22561 / 2023   \n",
       "...           ...                                            ...   \n",
       "3183   44362/2023                                   Unregistered   \n",
       "3184   43514/2023                                   Unregistered   \n",
       "3185   41271/2023            WRIT PETITION (CIVIL) / 1147 / 2023   \n",
       "3186   41772/2023  SPECIAL LEAVE PETITION (CIVIL) / 24804 / 2023   \n",
       "3187   43393/2023  SPECIAL LEAVE PETITION (CIVIL) / 24070 / 2023   \n",
       "\n",
       "     Date of Filing                                         Party Name  \n",
       "0        04-10-2023  UPENDRA NATH DALAI Vs ALL INDIA PRESIDENT BHAR...  \n",
       "1        03-10-2023       ROHAN CHATTERJEE Vs THE STATE OF WEST BENGAL  \n",
       "2        06-10-2023        SOMAKKA DECEASED BY LRS Vs ANAND @ ADIVEPPA  \n",
       "3        09-10-2023             RAKESH KAUSHIK Vs THE STATE OF HARYANA  \n",
       "4        02-10-2023  SUDEEPTA BISWAJIT GANGULY Vs BISWAJIT BIJANKUM...  \n",
       "...             ...                                                ...  \n",
       "3183     21-10-2023                     PUNAM LALWANI Vs PRATIBHA SONI  \n",
       "3184     18-10-2023      COMMISSIONER OF SALES TAX Vs M/S. BIRLA TYRES  \n",
       "3185     05-10-2023         E. R. GOPAKUMAR Vs THE STATE OF TAMIL NADU  \n",
       "3186     09-10-2023  MANAGING DIRECTOR U.P. JAL NIGAM (URBAN) LUCK ...  \n",
       "3187     17-10-2023            HDFC BANK LIMITED Vs ASHOK HARRY POTHEN  \n",
       "\n",
       "[3188 rows x 4 columns]"
      ]
     },
     "execution_count": 9,
     "metadata": {},
     "output_type": "execute_result"
    }
   ],
   "source": [
    "# Placeholder for data collection\n",
    "all_data = []\n",
    "\n",
    "while True:\n",
    "    # Wait for the table to load\n",
    "    table = driver.find_element(By.ID, 'tbl_cases_report_body')\n",
    "\n",
    "    # Extract rows from the table\n",
    "    rows = table.find_elements(By.TAG_NAME, 'tr')\n",
    "\n",
    "    # Extract data from each row and store in a list of dictionaries\n",
    "    for row in rows:\n",
    "        columns = row.find_elements(By.TAG_NAME, 'td')\n",
    "        try:\n",
    "            data = {\n",
    "                'Diary Number': columns[0].text.strip(),\n",
    "                'Case Number': columns[1].text.strip(),\n",
    "                'Date of Filing': columns[2].text.strip(),\n",
    "                'Party Name': columns[3].text.strip()\n",
    "            }\n",
    "            all_data.append(data)\n",
    "        except IndexError:\n",
    "            # If the row doesn't have expected columns, continue to the next row\n",
    "            continue\n",
    "\n",
    "    # Checking if the \"Next\" button is disabled\n",
    "    next_button = driver.find_element(By.ID, 'tbl_cases_next')\n",
    "    if 'disabled' in next_button.get_attribute('class'):\n",
    "        break\n",
    "\n",
    "    # Clicking the \"Next\" button to move to the next page\n",
    "    next_button.click()\n",
    "\n",
    "    # Wait for a short time to load the next page\n",
    "    time.sleep(4)\n",
    "\n",
    "# Creating a DataFrame\n",
    "df = pd.DataFrame(all_data)\n",
    "\n",
    "# Display the DataFrame\n",
    "df"
   ]
  },
  {
   "cell_type": "code",
   "execution_count": 10,
   "metadata": {},
   "outputs": [],
   "source": [
    "driver.quit()"
   ]
  },
  {
   "cell_type": "code",
   "execution_count": 11,
   "metadata": {},
   "outputs": [],
   "source": [
    "df.to_csv('Raw_SC_Civil_Cases_Scraped_Data.csv', index= False)"
   ]
  }
 ],
 "metadata": {
  "kernelspec": {
   "display_name": "Python 3",
   "language": "python",
   "name": "python3"
  },
  "language_info": {
   "codemirror_mode": {
    "name": "ipython",
    "version": 3
   },
   "file_extension": ".py",
   "mimetype": "text/x-python",
   "name": "python",
   "nbconvert_exporter": "python",
   "pygments_lexer": "ipython3",
   "version": "3.11.5"
  }
 },
 "nbformat": 4,
 "nbformat_minor": 2
}
