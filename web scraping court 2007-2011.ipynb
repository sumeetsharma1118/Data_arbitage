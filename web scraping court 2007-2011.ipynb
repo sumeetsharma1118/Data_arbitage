{
 "cells": [
  {
   "cell_type": "code",
   "execution_count": 1,
   "id": "7040e362",
   "metadata": {},
   "outputs": [],
   "source": [
    "from selenium import webdriver\n",
    "\n",
    "from selenium.webdriver.common.by import By\n",
    "\n",
    "import pandas as pd\n",
    "\n",
    "import warnings\n",
    "warnings.filterwarnings('ignore')"
   ]
  },
  {
   "cell_type": "code",
   "execution_count": 2,
   "id": "66018149",
   "metadata": {},
   "outputs": [],
   "source": [
    "driver = webdriver.Chrome()\n",
    "driver.get(\"https://dhcappl.nic.in/FreeText/launchbrowsejud.do#\")\n",
    "driver.maximize_window()"
   ]
  },
  {
   "cell_type": "code",
   "execution_count": 3,
   "id": "e48332ad",
   "metadata": {},
   "outputs": [
    {
     "name": "stdout",
     "output_type": "stream",
     "text": [
      "Scraping for year: 2007\n",
      "Scraping for year: 2008\n",
      "Scraping for year: 2009\n",
      "Scraping for year: 2010\n",
      "Scraping for year: 2011\n"
     ]
    }
   ],
   "source": [
    "data = []\n",
    "final_data = []\n",
    "years = ['2007','2008', '2009', '2010','2011']\n",
    "def court_data(driver, year):\n",
    "    \n",
    "    # Locate and click the link for the specific year\n",
    "    page_year = driver.find_element(By.XPATH, f\"\"\"//a[@onclick=\"setiframe('{year}.html');\"]\"\"\")\n",
    "    page_year.click()\n",
    "    \n",
    "    # switch to the iframe which contains the data\n",
    "    iframe = driver.find_element(By.XPATH, '//iframe[@id=\"judiframeid\"]')\n",
    "    driver.switch_to.frame(iframe)\n",
    "    \n",
    "    \n",
    "    # Extract row from table\n",
    "    rows = driver.find_elements(By.XPATH,'//tbody[@id=\"data\"]/tr')\n",
    "    \n",
    "    # printing year after each iteration\n",
    "    print(\"Scraping for year:\", year) \n",
    "    \n",
    "    #Iterate through each row in rows and extract data\n",
    "    for row in rows:\n",
    "        \n",
    "        td_elements = row.find_elements(By.XPATH, './/td')\n",
    "        \n",
    "        row_data = [td.text for td in td_elements]\n",
    "        \n",
    "        # Extracting the link which is in the 4 element.\n",
    "        link = td_elements[4].find_element(By.XPATH, './/a').get_attribute('href')\n",
    "        row_data.append(link)\n",
    "        \n",
    "        data.append(row_data)\n",
    "        \n",
    "    #Switch back the original content    \n",
    "    driver.switch_to.default_content()\n",
    "    \n",
    "    return data\n",
    "\n",
    "for year in years:\n",
    "    final_data.extend(court_data(driver, year))"
   ]
  },
  {
   "cell_type": "code",
   "execution_count": 4,
   "id": "0c06b486",
   "metadata": {},
   "outputs": [],
   "source": [
    "driver.quit()"
   ]
  },
  {
   "cell_type": "code",
   "execution_count": 5,
   "id": "d477fffc",
   "metadata": {},
   "outputs": [
    {
     "data": {
      "text/html": [
       "<div>\n",
       "<style scoped>\n",
       "    .dataframe tbody tr th:only-of-type {\n",
       "        vertical-align: middle;\n",
       "    }\n",
       "\n",
       "    .dataframe tbody tr th {\n",
       "        vertical-align: top;\n",
       "    }\n",
       "\n",
       "    .dataframe thead th {\n",
       "        text-align: right;\n",
       "    }\n",
       "</style>\n",
       "<table border=\"1\" class=\"dataframe\">\n",
       "  <thead>\n",
       "    <tr style=\"text-align: right;\">\n",
       "      <th></th>\n",
       "      <th>CASE NO</th>\n",
       "      <th>CATEGORY</th>\n",
       "      <th>PARTY NAME</th>\n",
       "      <th>JUDGEMENT DATE</th>\n",
       "      <th>JUDGEMENT PDF LINK</th>\n",
       "    </tr>\n",
       "  </thead>\n",
       "  <tbody>\n",
       "    <tr>\n",
       "      <th>0</th>\n",
       "      <td>W.P.(C) 5108/1993</td>\n",
       "      <td>INCOME TAX MATTERS</td>\n",
       "      <td>M/s Puran Mal &amp; Sons and another VS Union of I...</td>\n",
       "      <td>24-10-07</td>\n",
       "      <td>https://dhccaseinfo.nic.in/jupload/dhc/MBL/jud...</td>\n",
       "    </tr>\n",
       "    <tr>\n",
       "      <th>1</th>\n",
       "      <td>FAO(OS) 276/1995</td>\n",
       "      <td>NOT ENTERED</td>\n",
       "      <td>M/S. CAPRICORN ONE &amp; ANOTHER VS RAGHBIR SINGH ...</td>\n",
       "      <td>15-05-07</td>\n",
       "      <td>https://dhccaseinfo.nic.in/jupload/dhc/SKN/jud...</td>\n",
       "    </tr>\n",
       "    <tr>\n",
       "      <th>2</th>\n",
       "      <td>W.P.(C) 2165/1995</td>\n",
       "      <td>P.I.L. MATTERS</td>\n",
       "      <td>P.CHAKRABORTY VS UOI &amp; ORS.</td>\n",
       "      <td>14-03-07</td>\n",
       "      <td>https://dhccaseinfo.nic.in/jupload/dhc/620/jud...</td>\n",
       "    </tr>\n",
       "    <tr>\n",
       "      <th>3</th>\n",
       "      <td>CRL.A. 38/1991</td>\n",
       "      <td>CRIMINAL APPEALS</td>\n",
       "      <td>State VS Kaptan Singh</td>\n",
       "      <td>06-11-07</td>\n",
       "      <td>https://dhccaseinfo.nic.in/jupload/dhc/PNJ/jud...</td>\n",
       "    </tr>\n",
       "    <tr>\n",
       "      <th>4</th>\n",
       "      <td>FAO 58/1994</td>\n",
       "      <td>MOTOR ACCIDENT CLAIM MATTERS</td>\n",
       "      <td>U.P.Roadways VS Smt. Vijay Devi &amp; Ors.</td>\n",
       "      <td>21-05-07</td>\n",
       "      <td>https://dhccaseinfo.nic.in/jupload/dhc/PNJ/jud...</td>\n",
       "    </tr>\n",
       "  </tbody>\n",
       "</table>\n",
       "</div>"
      ],
      "text/plain": [
       "             CASE NO                      CATEGORY  \\\n",
       "0  W.P.(C) 5108/1993            INCOME TAX MATTERS   \n",
       "1   FAO(OS) 276/1995                   NOT ENTERED   \n",
       "2  W.P.(C) 2165/1995                P.I.L. MATTERS   \n",
       "3     CRL.A. 38/1991              CRIMINAL APPEALS   \n",
       "4        FAO 58/1994  MOTOR ACCIDENT CLAIM MATTERS   \n",
       "\n",
       "                                          PARTY NAME JUDGEMENT DATE  \\\n",
       "0  M/s Puran Mal & Sons and another VS Union of I...       24-10-07   \n",
       "1  M/S. CAPRICORN ONE & ANOTHER VS RAGHBIR SINGH ...       15-05-07   \n",
       "2                        P.CHAKRABORTY VS UOI & ORS.       14-03-07   \n",
       "3                              State VS Kaptan Singh       06-11-07   \n",
       "4             U.P.Roadways VS Smt. Vijay Devi & Ors.       21-05-07   \n",
       "\n",
       "                                  JUDGEMENT PDF LINK  \n",
       "0  https://dhccaseinfo.nic.in/jupload/dhc/MBL/jud...  \n",
       "1  https://dhccaseinfo.nic.in/jupload/dhc/SKN/jud...  \n",
       "2  https://dhccaseinfo.nic.in/jupload/dhc/620/jud...  \n",
       "3  https://dhccaseinfo.nic.in/jupload/dhc/PNJ/jud...  \n",
       "4  https://dhccaseinfo.nic.in/jupload/dhc/PNJ/jud...  "
      ]
     },
     "execution_count": 5,
     "metadata": {},
     "output_type": "execute_result"
    }
   ],
   "source": [
    "df_list = []\n",
    "for list_ in data:\n",
    "    new_row = {'CASE NO': list_[0], 'CATEGORY': list_[1], 'PARTY NAME': list_[2], 'JUDGEMENT DATE': list_[3], 'JUDGEMENT PDF LINK':list_[5]}\n",
    "    df_list.append(new_row)\n",
    "    \n",
    "df = pd.DataFrame(df_list)\n",
    "df.head()"
   ]
  },
  {
   "cell_type": "code",
   "execution_count": 7,
   "id": "4aeb84f4",
   "metadata": {},
   "outputs": [
    {
     "data": {
      "text/html": [
       "<div>\n",
       "<style scoped>\n",
       "    .dataframe tbody tr th:only-of-type {\n",
       "        vertical-align: middle;\n",
       "    }\n",
       "\n",
       "    .dataframe tbody tr th {\n",
       "        vertical-align: top;\n",
       "    }\n",
       "\n",
       "    .dataframe thead th {\n",
       "        text-align: right;\n",
       "    }\n",
       "</style>\n",
       "<table border=\"1\" class=\"dataframe\">\n",
       "  <thead>\n",
       "    <tr style=\"text-align: right;\">\n",
       "      <th></th>\n",
       "      <th>CASE NO</th>\n",
       "      <th>CATEGORY</th>\n",
       "      <th>PARTY NAME</th>\n",
       "      <th>JUDGEMENT DATE</th>\n",
       "      <th>JUDGEMENT PDF LINK</th>\n",
       "    </tr>\n",
       "  </thead>\n",
       "  <tbody>\n",
       "    <tr>\n",
       "      <th>9518</th>\n",
       "      <td>ITA 1232/2008</td>\n",
       "      <td>Assessment/Re-assessment/Block assessment</td>\n",
       "      <td>THE COMMISSIONER OF INCOME TAX-III VS SPORTKIN...</td>\n",
       "      <td>19-08-09</td>\n",
       "      <td>https://dhccaseinfo.nic.in/jupload/dhc/VJM/jud...</td>\n",
       "    </tr>\n",
       "  </tbody>\n",
       "</table>\n",
       "</div>"
      ],
      "text/plain": [
       "            CASE NO                                   CATEGORY  \\\n",
       "9518  ITA 1232/2008  Assessment/Re-assessment/Block assessment   \n",
       "\n",
       "                                             PARTY NAME JUDGEMENT DATE  \\\n",
       "9518  THE COMMISSIONER OF INCOME TAX-III VS SPORTKIN...       19-08-09   \n",
       "\n",
       "                                     JUDGEMENT PDF LINK  \n",
       "9518  https://dhccaseinfo.nic.in/jupload/dhc/VJM/jud...  "
      ]
     },
     "execution_count": 7,
     "metadata": {},
     "output_type": "execute_result"
    }
   ],
   "source": [
    "df.sample()"
   ]
  },
  {
   "cell_type": "code",
   "execution_count": 8,
   "id": "8f30d3dd",
   "metadata": {},
   "outputs": [],
   "source": [
    "data = df.to_csv(\"C:/Users/ADMIN/Desktop/New folder/Project/Court scrape/Court_data_2007-2011.csv\")"
   ]
  },
  {
   "cell_type": "code",
   "execution_count": 9,
   "id": "9f9a83c4",
   "metadata": {},
   "outputs": [
    {
     "data": {
      "text/html": [
       "<div>\n",
       "<style scoped>\n",
       "    .dataframe tbody tr th:only-of-type {\n",
       "        vertical-align: middle;\n",
       "    }\n",
       "\n",
       "    .dataframe tbody tr th {\n",
       "        vertical-align: top;\n",
       "    }\n",
       "\n",
       "    .dataframe thead th {\n",
       "        text-align: right;\n",
       "    }\n",
       "</style>\n",
       "<table border=\"1\" class=\"dataframe\">\n",
       "  <thead>\n",
       "    <tr style=\"text-align: right;\">\n",
       "      <th></th>\n",
       "      <th>Unnamed: 0</th>\n",
       "      <th>CASE NO</th>\n",
       "      <th>CATEGORY</th>\n",
       "      <th>PARTY NAME</th>\n",
       "      <th>JUDGEMENT DATE</th>\n",
       "      <th>JUDGEMENT PDF LINK</th>\n",
       "    </tr>\n",
       "  </thead>\n",
       "  <tbody>\n",
       "    <tr>\n",
       "      <th>2391</th>\n",
       "      <td>2391</td>\n",
       "      <td>FAO(OS) 412/2006</td>\n",
       "      <td>SPECIFIC PERFORMANCE OF CONTRACT MATTERS</td>\n",
       "      <td>ROYAL NEPAL AIRLINES CORPORATION VS ARUN JAIN</td>\n",
       "      <td>06-02-08</td>\n",
       "      <td>https://dhccaseinfo.nic.in/jupload/dhc/SKN/jud...</td>\n",
       "    </tr>\n",
       "  </tbody>\n",
       "</table>\n",
       "</div>"
      ],
      "text/plain": [
       "      Unnamed: 0           CASE NO                                  CATEGORY  \\\n",
       "2391        2391  FAO(OS) 412/2006  SPECIFIC PERFORMANCE OF CONTRACT MATTERS   \n",
       "\n",
       "                                         PARTY NAME JUDGEMENT DATE  \\\n",
       "2391  ROYAL NEPAL AIRLINES CORPORATION VS ARUN JAIN       06-02-08   \n",
       "\n",
       "                                     JUDGEMENT PDF LINK  \n",
       "2391  https://dhccaseinfo.nic.in/jupload/dhc/SKN/jud...  "
      ]
     },
     "execution_count": 9,
     "metadata": {},
     "output_type": "execute_result"
    }
   ],
   "source": [
    "df1 = pd.read_csv(\"C:/Users/ADMIN/Desktop/New folder/Project/Court scrape/Court_data_2007-2011.csv\")\n",
    "df1.sample()"
   ]
  },
  {
   "cell_type": "code",
   "execution_count": 10,
   "id": "13835551",
   "metadata": {},
   "outputs": [],
   "source": [
    "df = df1.copy()"
   ]
  },
  {
   "cell_type": "code",
   "execution_count": 11,
   "id": "017083e2",
   "metadata": {},
   "outputs": [],
   "source": [
    "df.rename(columns={'Unnamed: 0': 'S.NO'}, inplace=True)"
   ]
  },
  {
   "cell_type": "code",
   "execution_count": 12,
   "id": "c29f5434",
   "metadata": {},
   "outputs": [
    {
     "data": {
      "text/html": [
       "<div>\n",
       "<style scoped>\n",
       "    .dataframe tbody tr th:only-of-type {\n",
       "        vertical-align: middle;\n",
       "    }\n",
       "\n",
       "    .dataframe tbody tr th {\n",
       "        vertical-align: top;\n",
       "    }\n",
       "\n",
       "    .dataframe thead th {\n",
       "        text-align: right;\n",
       "    }\n",
       "</style>\n",
       "<table border=\"1\" class=\"dataframe\">\n",
       "  <thead>\n",
       "    <tr style=\"text-align: right;\">\n",
       "      <th></th>\n",
       "      <th>S.NO</th>\n",
       "      <th>CASE NO</th>\n",
       "      <th>CATEGORY</th>\n",
       "      <th>PARTY NAME</th>\n",
       "      <th>JUDGEMENT DATE</th>\n",
       "      <th>JUDGEMENT PDF LINK</th>\n",
       "    </tr>\n",
       "  </thead>\n",
       "  <tbody>\n",
       "    <tr>\n",
       "      <th>9633</th>\n",
       "      <td>9633</td>\n",
       "      <td>W.P.(C) 8365/2008</td>\n",
       "      <td>DIVISION BENCH CASE NOT FALLING IN ANY SPECIFI...</td>\n",
       "      <td>JAY THAREJA &amp; ANR. VS LIEUTENANT GOVERNOR &amp; ANR.</td>\n",
       "      <td>15-04-09</td>\n",
       "      <td>https://dhccaseinfo.nic.in/jupload/dhc/SKK/jud...</td>\n",
       "    </tr>\n",
       "  </tbody>\n",
       "</table>\n",
       "</div>"
      ],
      "text/plain": [
       "      S.NO            CASE NO  \\\n",
       "9633  9633  W.P.(C) 8365/2008   \n",
       "\n",
       "                                               CATEGORY  \\\n",
       "9633  DIVISION BENCH CASE NOT FALLING IN ANY SPECIFI...   \n",
       "\n",
       "                                            PARTY NAME JUDGEMENT DATE  \\\n",
       "9633  JAY THAREJA & ANR. VS LIEUTENANT GOVERNOR & ANR.       15-04-09   \n",
       "\n",
       "                                     JUDGEMENT PDF LINK  \n",
       "9633  https://dhccaseinfo.nic.in/jupload/dhc/SKK/jud...  "
      ]
     },
     "execution_count": 12,
     "metadata": {},
     "output_type": "execute_result"
    }
   ],
   "source": [
    "df.sample()"
   ]
  },
  {
   "cell_type": "code",
   "execution_count": 13,
   "id": "f59b73ba",
   "metadata": {},
   "outputs": [],
   "source": [
    "#Spliting the Party name column into party name and respondent's \n",
    "df['PARTY NAME'], df['RESPONDENT\"S'] = df['PARTY NAME'].str.split(\" VS \", 1).str "
   ]
  },
  {
   "cell_type": "code",
   "execution_count": 14,
   "id": "fcc5181b",
   "metadata": {},
   "outputs": [],
   "source": [
    "# Reording the columns name\n",
    "df = df[['S.NO', 'CASE NO', 'CATEGORY', 'PARTY NAME','RESPONDENT\"S','JUDGEMENT DATE', 'JUDGEMENT PDF LINK']]"
   ]
  },
  {
   "cell_type": "code",
   "execution_count": 15,
   "id": "c9601751",
   "metadata": {},
   "outputs": [
    {
     "data": {
      "text/html": [
       "<div>\n",
       "<style scoped>\n",
       "    .dataframe tbody tr th:only-of-type {\n",
       "        vertical-align: middle;\n",
       "    }\n",
       "\n",
       "    .dataframe tbody tr th {\n",
       "        vertical-align: top;\n",
       "    }\n",
       "\n",
       "    .dataframe thead th {\n",
       "        text-align: right;\n",
       "    }\n",
       "</style>\n",
       "<table border=\"1\" class=\"dataframe\">\n",
       "  <thead>\n",
       "    <tr style=\"text-align: right;\">\n",
       "      <th></th>\n",
       "      <th>S.NO</th>\n",
       "      <th>CASE NO</th>\n",
       "      <th>CATEGORY</th>\n",
       "      <th>PARTY NAME</th>\n",
       "      <th>RESPONDENT\"S</th>\n",
       "      <th>JUDGEMENT DATE</th>\n",
       "      <th>JUDGEMENT PDF LINK</th>\n",
       "    </tr>\n",
       "  </thead>\n",
       "  <tbody>\n",
       "    <tr>\n",
       "      <th>10458</th>\n",
       "      <td>10458</td>\n",
       "      <td>FAO 365/1999</td>\n",
       "      <td>MOTOR ACCIDENT CLAIM MATTERS</td>\n",
       "      <td>SAT PRAKASH &amp; ORS</td>\n",
       "      <td>JAGDISH &amp; ORS</td>\n",
       "      <td>26-03-10</td>\n",
       "      <td>https://dhccaseinfo.nic.in/jupload/dhc/JRM/jud...</td>\n",
       "    </tr>\n",
       "  </tbody>\n",
       "</table>\n",
       "</div>"
      ],
      "text/plain": [
       "        S.NO       CASE NO                      CATEGORY         PARTY NAME  \\\n",
       "10458  10458  FAO 365/1999  MOTOR ACCIDENT CLAIM MATTERS  SAT PRAKASH & ORS   \n",
       "\n",
       "        RESPONDENT\"S JUDGEMENT DATE  \\\n",
       "10458  JAGDISH & ORS       26-03-10   \n",
       "\n",
       "                                      JUDGEMENT PDF LINK  \n",
       "10458  https://dhccaseinfo.nic.in/jupload/dhc/JRM/jud...  "
      ]
     },
     "execution_count": 15,
     "metadata": {},
     "output_type": "execute_result"
    }
   ],
   "source": [
    "df.sample()"
   ]
  },
  {
   "cell_type": "code",
   "execution_count": 16,
   "id": "a6486e76",
   "metadata": {},
   "outputs": [],
   "source": [
    "df.to_csv(\"C:/Users/ADMIN/Desktop/New folder/Project/Court scrape/Court_data_final_2007-2011.csv\", encoding='utf-8', index=False)"
   ]
  },
  {
   "cell_type": "code",
   "execution_count": null,
   "id": "1e8f639d",
   "metadata": {},
   "outputs": [],
   "source": []
  }
 ],
 "metadata": {
  "kernelspec": {
   "display_name": "Python 3 (ipykernel)",
   "language": "python",
   "name": "python3"
  },
  "language_info": {
   "codemirror_mode": {
    "name": "ipython",
    "version": 3
   },
   "file_extension": ".py",
   "mimetype": "text/x-python",
   "name": "python",
   "nbconvert_exporter": "python",
   "pygments_lexer": "ipython3",
   "version": "3.9.10"
  }
 },
 "nbformat": 4,
 "nbformat_minor": 5
}
